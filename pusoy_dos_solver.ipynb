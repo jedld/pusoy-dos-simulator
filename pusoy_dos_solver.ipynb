{
 "cells": [
  {
   "cell_type": "code",
   "execution_count": 24,
   "metadata": {},
   "outputs": [],
   "source": [
    "import random\n",
    "from combination_generator import *\n",
    "from IPython.display import HTML\n",
    "\n",
    "class Player:\n",
    "  def __init__(self, name):\n",
    "    self.cards = []\n",
    "    self.name = name\n",
    "\n",
    "  def give_card(self, card):\n",
    "    self.cards.append(card)\n",
    "  \n",
    "  def play_hand(self, pile):\n",
    "    valid_combination = []\n",
    "    combinations = combination_from_pile(self.cards)\n",
    "    for c in combinations:\n",
    "      if compare_combinations(pile, c) < 0:\n",
    "        if pile == [] or len(pile[1]) == len(c[1]):\n",
    "          valid_combination.append(c)\n",
    "    if valid_combination == []:\n",
    "      return None\n",
    "    print(f\"possible moves {len(valid_combination)}\")\n",
    "\n",
    "    # if pile is not empty then allow pass as a \"move\"\n",
    "    if not pile == []:\n",
    "      valid_combination.append(None)\n",
    "\n",
    "    return valid_combination[0]\n",
    "\n",
    "  def first_play(self, lowest_card = 0):\n",
    "    valid_combinations = []\n",
    "    combinations = combination_from_pile(self.cards)\n",
    "    for c in combinations:\n",
    "      _, cards = c\n",
    "      if lowest_card in cards:\n",
    "        valid_combinations.append(c)\n",
    "\n",
    "    print(f\"possible moves {len(valid_combinations)}\")\n",
    "    return valid_combinations[0]\n",
    "\n"
   ]
  },
  {
   "cell_type": "code",
   "execution_count": 25,
   "metadata": {},
   "outputs": [],
   "source": [
    "def simulate_game(number_of_players = 4):\n",
    "  deck = []\n",
    "  pile = []\n",
    "  for x in range(52):\n",
    "    deck.append(x)\n",
    "\n",
    "  random.shuffle(deck)\n",
    "  print(deck)\n",
    "  \n",
    "  players = [Player(f\"{p + 1}\") for p in range(number_of_players)]\n",
    "\n",
    "  def describe(cards):\n",
    "    card_images = []\n",
    "    for c in cards:\n",
    "      _, suite, card, index = card_id_to_name(c)\n",
    "      suite_id = index // 13\n",
    "      if suite_id == 0:\n",
    "        suite_id = 2\n",
    "      elif suite_id == 1:\n",
    "        suite_id = 0\n",
    "      elif suite_id == 2:\n",
    "        suite_id = 1\n",
    "      card_images.append(f\"faces/{suite_id}_{((index + 2) % 13) + 1}.svg\")\n",
    "    imagesList=''.join( [\"<img style='width: 120px; margin: 0px; float: left; border: 1px solid black; background: white;' src='%s' />\" % str(s) \n",
    "                for s in sorted(card_images) ])\n",
    "    display(HTML(imagesList))\n",
    "\n",
    "\n",
    "  def win_condition(player_list):\n",
    "    for p in player_list:\n",
    "      if len(p.cards) == 0:\n",
    "        return True\n",
    "    return False\n",
    "\n",
    "  for x in range(13):\n",
    "    for p in players:\n",
    "      p.give_card(deck.pop())\n",
    "  \n",
    "  # print hands\n",
    "  lowest_card = 52\n",
    "  start_player = players[0]\n",
    "  print(f\"starting hands:\")\n",
    "  for p_num in range(len(players)):\n",
    "    p = players[p_num]\n",
    "    print(f\"For Player {p.name}:\")\n",
    "    describe(p.cards)\n",
    "    print(f\"\")\n",
    "    p.cards.sort()\n",
    "    if p.cards[0] < lowest_card:\n",
    "      lowest_card = p.cards[0]\n",
    "      start_player = p\n",
    "\n",
    "  players.remove(start_player)\n",
    "  turn_order = [start_player]\n",
    "  for p in players:\n",
    "    turn_order.append(p)\n",
    "\n",
    "  current_turn = 0\n",
    "  last_play = None\n",
    "  last_move = None\n",
    "\n",
    "  print(f\"Game start!\")\n",
    "  print(\"-------------\")\n",
    "\n",
    "  while not win_condition(turn_order):\n",
    "    current_player = turn_order[current_turn % number_of_players]\n",
    "    print(\" \")\n",
    "    print(f\"turn {current_turn} =============================\")\n",
    "    print(f\"player {current_player.name} cards in hand {len(current_player.cards)}:\")\n",
    "    if last_move == None and last_play == current_player:\n",
    "      pile = []\n",
    "      \n",
    "    if current_turn == 0:\n",
    "      move = current_player.first_play(lowest_card)\n",
    "    else:\n",
    "      move = current_player.play_hand(pile)\n",
    "      \n",
    "    if move != None:\n",
    "      pile = move\n",
    "      last_play = current_player\n",
    "      last_move = move\n",
    "      _, cards = move\n",
    "      describe(cards)\n",
    "      for c in cards:\n",
    "        current_player.cards.remove(c)\n",
    "      if len(current_player.cards) == 0:\n",
    "        print(f\"Player {current_player.name} has won\")\n",
    "    else:\n",
    "      print('pass')\n",
    "      last_move = None\n",
    "    current_turn += 1\n",
    "  for p in turn_order:\n",
    "    if len(p.cards) > 0:\n",
    "      print(f\"Player #{p.name} Cards left: {len(p.cards)}\")\n",
    "    "
   ]
  },
  {
   "cell_type": "markdown",
   "metadata": {},
   "source": [
    "Start a game simulation"
   ]
  },
  {
   "cell_type": "code",
   "execution_count": 26,
   "metadata": {},
   "outputs": [
    {
     "name": "stdout",
     "output_type": "stream",
     "text": [
      "[29, 9, 50, 3, 11, 47, 15, 36, 34, 2, 5, 6, 19, 28, 1, 8, 22, 39, 44, 14, 48, 42, 26, 33, 16, 4, 37, 25, 0, 45, 49, 10, 20, 46, 30, 21, 12, 13, 27, 23, 38, 51, 32, 31, 24, 18, 17, 40, 41, 35, 7, 43]\n",
      "starting hands:\n",
      "For Player 1:\n"
     ]
    },
    {
     "data": {
      "text/html": [
       "<img style='width: 120px; margin: 0px; float: left; border: 1px solid black; background: white;' src='faces/0_11.svg' /><img style='width: 120px; margin: 0px; float: left; border: 1px solid black; background: white;' src='faces/0_13.svg' /><img style='width: 120px; margin: 0px; float: left; border: 1px solid black; background: white;' src='faces/0_2.svg' /><img style='width: 120px; margin: 0px; float: left; border: 1px solid black; background: white;' src='faces/0_4.svg' /><img style='width: 120px; margin: 0px; float: left; border: 1px solid black; background: white;' src='faces/1_10.svg' /><img style='width: 120px; margin: 0px; float: left; border: 1px solid black; background: white;' src='faces/1_13.svg' /><img style='width: 120px; margin: 0px; float: left; border: 1px solid black; background: white;' src='faces/1_8.svg' /><img style='width: 120px; margin: 0px; float: left; border: 1px solid black; background: white;' src='faces/2_11.svg' /><img style='width: 120px; margin: 0px; float: left; border: 1px solid black; background: white;' src='faces/2_13.svg' /><img style='width: 120px; margin: 0px; float: left; border: 1px solid black; background: white;' src='faces/2_6.svg' /><img style='width: 120px; margin: 0px; float: left; border: 1px solid black; background: white;' src='faces/2_9.svg' /><img style='width: 120px; margin: 0px; float: left; border: 1px solid black; background: white;' src='faces/3_4.svg' /><img style='width: 120px; margin: 0px; float: left; border: 1px solid black; background: white;' src='faces/3_7.svg' />"
      ],
      "text/plain": [
       "<IPython.core.display.HTML object>"
      ]
     },
     "metadata": {},
     "output_type": "display_data"
    },
    {
     "name": "stdout",
     "output_type": "stream",
     "text": [
      "\n",
      "For Player 2:\n"
     ]
    },
    {
     "data": {
      "text/html": [
       "<img style='width: 120px; margin: 0px; float: left; border: 1px solid black; background: white;' src='faces/0_5.svg' /><img style='width: 120px; margin: 0px; float: left; border: 1px solid black; background: white;' src='faces/0_7.svg' /><img style='width: 120px; margin: 0px; float: left; border: 1px solid black; background: white;' src='faces/1_1.svg' /><img style='width: 120px; margin: 0px; float: left; border: 1px solid black; background: white;' src='faces/1_3.svg' /><img style='width: 120px; margin: 0px; float: left; border: 1px solid black; background: white;' src='faces/1_4.svg' /><img style='width: 120px; margin: 0px; float: left; border: 1px solid black; background: white;' src='faces/1_7.svg' /><img style='width: 120px; margin: 0px; float: left; border: 1px solid black; background: white;' src='faces/1_9.svg' /><img style='width: 120px; margin: 0px; float: left; border: 1px solid black; background: white;' src='faces/2_10.svg' /><img style='width: 120px; margin: 0px; float: left; border: 1px solid black; background: white;' src='faces/2_4.svg' /><img style='width: 120px; margin: 0px; float: left; border: 1px solid black; background: white;' src='faces/2_8.svg' /><img style='width: 120px; margin: 0px; float: left; border: 1px solid black; background: white;' src='faces/3_1.svg' /><img style='width: 120px; margin: 0px; float: left; border: 1px solid black; background: white;' src='faces/3_13.svg' /><img style='width: 120px; margin: 0px; float: left; border: 1px solid black; background: white;' src='faces/3_8.svg' />"
      ],
      "text/plain": [
       "<IPython.core.display.HTML object>"
      ]
     },
     "metadata": {},
     "output_type": "display_data"
    },
    {
     "name": "stdout",
     "output_type": "stream",
     "text": [
      "\n",
      "For Player 3:\n"
     ]
    },
    {
     "data": {
      "text/html": [
       "<img style='width: 120px; margin: 0px; float: left; border: 1px solid black; background: white;' src='faces/0_3.svg' /><img style='width: 120px; margin: 0px; float: left; border: 1px solid black; background: white;' src='faces/0_8.svg' /><img style='width: 120px; margin: 0px; float: left; border: 1px solid black; background: white;' src='faces/1_12.svg' /><img style='width: 120px; margin: 0px; float: left; border: 1px solid black; background: white;' src='faces/1_5.svg' /><img style='width: 120px; margin: 0px; float: left; border: 1px solid black; background: white;' src='faces/2_12.svg' /><img style='width: 120px; margin: 0px; float: left; border: 1px solid black; background: white;' src='faces/2_5.svg' /><img style='width: 120px; margin: 0px; float: left; border: 1px solid black; background: white;' src='faces/2_7.svg' /><img style='width: 120px; margin: 0px; float: left; border: 1px solid black; background: white;' src='faces/3_10.svg' /><img style='width: 120px; margin: 0px; float: left; border: 1px solid black; background: white;' src='faces/3_11.svg' /><img style='width: 120px; margin: 0px; float: left; border: 1px solid black; background: white;' src='faces/3_2.svg' /><img style='width: 120px; margin: 0px; float: left; border: 1px solid black; background: white;' src='faces/3_3.svg' /><img style='width: 120px; margin: 0px; float: left; border: 1px solid black; background: white;' src='faces/3_6.svg' /><img style='width: 120px; margin: 0px; float: left; border: 1px solid black; background: white;' src='faces/3_9.svg' />"
      ],
      "text/plain": [
       "<IPython.core.display.HTML object>"
      ]
     },
     "metadata": {},
     "output_type": "display_data"
    },
    {
     "name": "stdout",
     "output_type": "stream",
     "text": [
      "\n",
      "For Player 4:\n"
     ]
    },
    {
     "data": {
      "text/html": [
       "<img style='width: 120px; margin: 0px; float: left; border: 1px solid black; background: white;' src='faces/0_1.svg' /><img style='width: 120px; margin: 0px; float: left; border: 1px solid black; background: white;' src='faces/0_10.svg' /><img style='width: 120px; margin: 0px; float: left; border: 1px solid black; background: white;' src='faces/0_12.svg' /><img style='width: 120px; margin: 0px; float: left; border: 1px solid black; background: white;' src='faces/0_6.svg' /><img style='width: 120px; margin: 0px; float: left; border: 1px solid black; background: white;' src='faces/0_9.svg' /><img style='width: 120px; margin: 0px; float: left; border: 1px solid black; background: white;' src='faces/1_11.svg' /><img style='width: 120px; margin: 0px; float: left; border: 1px solid black; background: white;' src='faces/1_2.svg' /><img style='width: 120px; margin: 0px; float: left; border: 1px solid black; background: white;' src='faces/1_6.svg' /><img style='width: 120px; margin: 0px; float: left; border: 1px solid black; background: white;' src='faces/2_1.svg' /><img style='width: 120px; margin: 0px; float: left; border: 1px solid black; background: white;' src='faces/2_2.svg' /><img style='width: 120px; margin: 0px; float: left; border: 1px solid black; background: white;' src='faces/2_3.svg' /><img style='width: 120px; margin: 0px; float: left; border: 1px solid black; background: white;' src='faces/3_12.svg' /><img style='width: 120px; margin: 0px; float: left; border: 1px solid black; background: white;' src='faces/3_5.svg' />"
      ],
      "text/plain": [
       "<IPython.core.display.HTML object>"
      ]
     },
     "metadata": {},
     "output_type": "display_data"
    },
    {
     "name": "stdout",
     "output_type": "stream",
     "text": [
      "\n",
      "Game start!\n",
      "-------------\n",
      " \n",
      "turn 0 =============================\n",
      "player 4 cards in hand 13:\n",
      "possible moves 1\n"
     ]
    },
    {
     "data": {
      "text/html": [
       "<img style='width: 120px; margin: 0px; float: left; border: 1px solid black; background: white;' src='faces/2_3.svg' />"
      ],
      "text/plain": [
       "<IPython.core.display.HTML object>"
      ]
     },
     "metadata": {},
     "output_type": "display_data"
    },
    {
     "name": "stdout",
     "output_type": "stream",
     "text": [
      " \n",
      "turn 1 =============================\n",
      "player 1 cards in hand 13:\n",
      "pass\n",
      " \n",
      "turn 2 =============================\n",
      "player 2 cards in hand 13:\n",
      "pass\n",
      " \n",
      "turn 3 =============================\n",
      "player 3 cards in hand 13:\n",
      "pass\n",
      " \n",
      "turn 4 =============================\n",
      "player 4 cards in hand 12:\n",
      "possible moves 16\n"
     ]
    },
    {
     "data": {
      "text/html": [
       "<img style='width: 120px; margin: 0px; float: left; border: 1px solid black; background: white;' src='faces/0_1.svg' /><img style='width: 120px; margin: 0px; float: left; border: 1px solid black; background: white;' src='faces/0_10.svg' /><img style='width: 120px; margin: 0px; float: left; border: 1px solid black; background: white;' src='faces/0_12.svg' /><img style='width: 120px; margin: 0px; float: left; border: 1px solid black; background: white;' src='faces/0_6.svg' /><img style='width: 120px; margin: 0px; float: left; border: 1px solid black; background: white;' src='faces/0_9.svg' />"
      ],
      "text/plain": [
       "<IPython.core.display.HTML object>"
      ]
     },
     "metadata": {},
     "output_type": "display_data"
    },
    {
     "name": "stdout",
     "output_type": "stream",
     "text": [
      " \n",
      "turn 5 =============================\n",
      "player 1 cards in hand 13:\n",
      "pass\n",
      " \n",
      "turn 6 =============================\n",
      "player 2 cards in hand 13:\n",
      "pass\n",
      " \n",
      "turn 7 =============================\n",
      "player 3 cards in hand 13:\n",
      "pass\n",
      " \n",
      "turn 8 =============================\n",
      "player 4 cards in hand 7:\n",
      "possible moves 8\n"
     ]
    },
    {
     "data": {
      "text/html": [
       "<img style='width: 120px; margin: 0px; float: left; border: 1px solid black; background: white;' src='faces/1_2.svg' /><img style='width: 120px; margin: 0px; float: left; border: 1px solid black; background: white;' src='faces/2_2.svg' />"
      ],
      "text/plain": [
       "<IPython.core.display.HTML object>"
      ]
     },
     "metadata": {},
     "output_type": "display_data"
    },
    {
     "name": "stdout",
     "output_type": "stream",
     "text": [
      " \n",
      "turn 9 =============================\n",
      "player 1 cards in hand 13:\n",
      "possible moves 3\n"
     ]
    },
    {
     "data": {
      "text/html": [
       "<img style='width: 120px; margin: 0px; float: left; border: 1px solid black; background: white;' src='faces/0_4.svg' /><img style='width: 120px; margin: 0px; float: left; border: 1px solid black; background: white;' src='faces/3_4.svg' />"
      ],
      "text/plain": [
       "<IPython.core.display.HTML object>"
      ]
     },
     "metadata": {},
     "output_type": "display_data"
    },
    {
     "name": "stdout",
     "output_type": "stream",
     "text": [
      " \n",
      "turn 10 =============================\n",
      "player 2 cards in hand 13:\n",
      "possible moves 1\n"
     ]
    },
    {
     "data": {
      "text/html": [
       "<img style='width: 120px; margin: 0px; float: left; border: 1px solid black; background: white;' src='faces/1_4.svg' /><img style='width: 120px; margin: 0px; float: left; border: 1px solid black; background: white;' src='faces/2_4.svg' />"
      ],
      "text/plain": [
       "<IPython.core.display.HTML object>"
      ]
     },
     "metadata": {},
     "output_type": "display_data"
    },
    {
     "name": "stdout",
     "output_type": "stream",
     "text": [
      " \n",
      "turn 11 =============================\n",
      "player 3 cards in hand 13:\n",
      "possible moves 1\n"
     ]
    },
    {
     "data": {
      "text/html": [
       "<img style='width: 120px; margin: 0px; float: left; border: 1px solid black; background: white;' src='faces/0_3.svg' /><img style='width: 120px; margin: 0px; float: left; border: 1px solid black; background: white;' src='faces/3_3.svg' />"
      ],
      "text/plain": [
       "<IPython.core.display.HTML object>"
      ]
     },
     "metadata": {},
     "output_type": "display_data"
    },
    {
     "name": "stdout",
     "output_type": "stream",
     "text": [
      " \n",
      "turn 12 =============================\n",
      "player 4 cards in hand 5:\n",
      "pass\n",
      " \n",
      "turn 13 =============================\n",
      "player 1 cards in hand 11:\n",
      "pass\n",
      " \n",
      "turn 14 =============================\n",
      "player 2 cards in hand 11:\n",
      "pass\n",
      " \n",
      "turn 15 =============================\n",
      "player 3 cards in hand 11:\n",
      "possible moves 13\n"
     ]
    },
    {
     "data": {
      "text/html": [
       "<img style='width: 120px; margin: 0px; float: left; border: 1px solid black; background: white;' src='faces/3_10.svg' /><img style='width: 120px; margin: 0px; float: left; border: 1px solid black; background: white;' src='faces/3_11.svg' /><img style='width: 120px; margin: 0px; float: left; border: 1px solid black; background: white;' src='faces/3_2.svg' /><img style='width: 120px; margin: 0px; float: left; border: 1px solid black; background: white;' src='faces/3_6.svg' /><img style='width: 120px; margin: 0px; float: left; border: 1px solid black; background: white;' src='faces/3_9.svg' />"
      ],
      "text/plain": [
       "<IPython.core.display.HTML object>"
      ]
     },
     "metadata": {},
     "output_type": "display_data"
    },
    {
     "name": "stdout",
     "output_type": "stream",
     "text": [
      " \n",
      "turn 16 =============================\n",
      "player 4 cards in hand 5:\n",
      "pass\n",
      " \n",
      "turn 17 =============================\n",
      "player 1 cards in hand 11:\n",
      "pass\n",
      " \n",
      "turn 18 =============================\n",
      "player 2 cards in hand 11:\n",
      "pass\n",
      " \n",
      "turn 19 =============================\n",
      "player 3 cards in hand 6:\n",
      "possible moves 7\n"
     ]
    },
    {
     "data": {
      "text/html": [
       "<img style='width: 120px; margin: 0px; float: left; border: 1px solid black; background: white;' src='faces/1_5.svg' /><img style='width: 120px; margin: 0px; float: left; border: 1px solid black; background: white;' src='faces/2_5.svg' />"
      ],
      "text/plain": [
       "<IPython.core.display.HTML object>"
      ]
     },
     "metadata": {},
     "output_type": "display_data"
    },
    {
     "name": "stdout",
     "output_type": "stream",
     "text": [
      " \n",
      "turn 20 =============================\n",
      "player 4 cards in hand 5:\n",
      "pass\n",
      " \n",
      "turn 21 =============================\n",
      "player 1 cards in hand 11:\n",
      "pass\n",
      " \n",
      "turn 22 =============================\n",
      "player 2 cards in hand 11:\n",
      "pass\n",
      " \n",
      "turn 23 =============================\n",
      "player 3 cards in hand 4:\n",
      "possible moves 4\n"
     ]
    },
    {
     "data": {
      "text/html": [
       "<img style='width: 120px; margin: 0px; float: left; border: 1px solid black; background: white;' src='faces/1_12.svg' />"
      ],
      "text/plain": [
       "<IPython.core.display.HTML object>"
      ]
     },
     "metadata": {},
     "output_type": "display_data"
    },
    {
     "name": "stdout",
     "output_type": "stream",
     "text": [
      " \n",
      "turn 24 =============================\n",
      "player 4 cards in hand 5:\n",
      "possible moves 3\n"
     ]
    },
    {
     "data": {
      "text/html": [
       "<img style='width: 120px; margin: 0px; float: left; border: 1px solid black; background: white;' src='faces/3_5.svg' />"
      ],
      "text/plain": [
       "<IPython.core.display.HTML object>"
      ]
     },
     "metadata": {},
     "output_type": "display_data"
    },
    {
     "name": "stdout",
     "output_type": "stream",
     "text": [
      " \n",
      "turn 25 =============================\n",
      "player 1 cards in hand 11:\n",
      "pass\n",
      " \n",
      "turn 26 =============================\n",
      "player 2 cards in hand 11:\n",
      "possible moves 2\n"
     ]
    },
    {
     "data": {
      "text/html": [
       "<img style='width: 120px; margin: 0px; float: left; border: 1px solid black; background: white;' src='faces/1_3.svg' />"
      ],
      "text/plain": [
       "<IPython.core.display.HTML object>"
      ]
     },
     "metadata": {},
     "output_type": "display_data"
    },
    {
     "name": "stdout",
     "output_type": "stream",
     "text": [
      " \n",
      "turn 27 =============================\n",
      "player 3 cards in hand 3:\n",
      "pass\n",
      " \n",
      "turn 28 =============================\n",
      "player 4 cards in hand 4:\n",
      "pass\n",
      " \n",
      "turn 29 =============================\n",
      "player 1 cards in hand 11:\n",
      "pass\n",
      " \n",
      "turn 30 =============================\n",
      "player 2 cards in hand 10:\n",
      "possible moves 13\n"
     ]
    },
    {
     "data": {
      "text/html": [
       "<img style='width: 120px; margin: 0px; float: left; border: 1px solid black; background: white;' src='faces/0_7.svg' /><img style='width: 120px; margin: 0px; float: left; border: 1px solid black; background: white;' src='faces/1_7.svg' />"
      ],
      "text/plain": [
       "<IPython.core.display.HTML object>"
      ]
     },
     "metadata": {},
     "output_type": "display_data"
    },
    {
     "name": "stdout",
     "output_type": "stream",
     "text": [
      " \n",
      "turn 31 =============================\n",
      "player 3 cards in hand 3:\n",
      "pass\n",
      " \n",
      "turn 32 =============================\n",
      "player 4 cards in hand 4:\n",
      "pass\n",
      " \n",
      "turn 33 =============================\n",
      "player 1 cards in hand 11:\n",
      "pass\n",
      " \n",
      "turn 34 =============================\n",
      "player 2 cards in hand 8:\n",
      "possible moves 10\n"
     ]
    },
    {
     "data": {
      "text/html": [
       "<img style='width: 120px; margin: 0px; float: left; border: 1px solid black; background: white;' src='faces/2_8.svg' /><img style='width: 120px; margin: 0px; float: left; border: 1px solid black; background: white;' src='faces/3_8.svg' />"
      ],
      "text/plain": [
       "<IPython.core.display.HTML object>"
      ]
     },
     "metadata": {},
     "output_type": "display_data"
    },
    {
     "name": "stdout",
     "output_type": "stream",
     "text": [
      " \n",
      "turn 35 =============================\n",
      "player 3 cards in hand 3:\n",
      "pass\n",
      " \n",
      "turn 36 =============================\n",
      "player 4 cards in hand 4:\n",
      "pass\n",
      " \n",
      "turn 37 =============================\n",
      "player 1 cards in hand 11:\n",
      "pass\n",
      " \n",
      "turn 38 =============================\n",
      "player 2 cards in hand 6:\n",
      "possible moves 7\n"
     ]
    },
    {
     "data": {
      "text/html": [
       "<img style='width: 120px; margin: 0px; float: left; border: 1px solid black; background: white;' src='faces/1_1.svg' /><img style='width: 120px; margin: 0px; float: left; border: 1px solid black; background: white;' src='faces/3_1.svg' />"
      ],
      "text/plain": [
       "<IPython.core.display.HTML object>"
      ]
     },
     "metadata": {},
     "output_type": "display_data"
    },
    {
     "name": "stdout",
     "output_type": "stream",
     "text": [
      " \n",
      "turn 39 =============================\n",
      "player 3 cards in hand 3:\n",
      "pass\n",
      " \n",
      "turn 40 =============================\n",
      "player 4 cards in hand 4:\n",
      "pass\n",
      " \n",
      "turn 41 =============================\n",
      "player 1 cards in hand 11:\n",
      "possible moves 2\n"
     ]
    },
    {
     "data": {
      "text/html": [
       "<img style='width: 120px; margin: 0px; float: left; border: 1px solid black; background: white;' src='faces/0_11.svg' /><img style='width: 120px; margin: 0px; float: left; border: 1px solid black; background: white;' src='faces/2_11.svg' />"
      ],
      "text/plain": [
       "<IPython.core.display.HTML object>"
      ]
     },
     "metadata": {},
     "output_type": "display_data"
    },
    {
     "name": "stdout",
     "output_type": "stream",
     "text": [
      " \n",
      "turn 42 =============================\n",
      "player 2 cards in hand 4:\n",
      "pass\n",
      " \n",
      "turn 43 =============================\n",
      "player 3 cards in hand 3:\n",
      "pass\n",
      " \n",
      "turn 44 =============================\n",
      "player 4 cards in hand 4:\n",
      "pass\n",
      " \n",
      "turn 45 =============================\n",
      "player 1 cards in hand 9:\n",
      "possible moves 10\n"
     ]
    },
    {
     "data": {
      "text/html": [
       "<img style='width: 120px; margin: 0px; float: left; border: 1px solid black; background: white;' src='faces/0_13.svg' /><img style='width: 120px; margin: 0px; float: left; border: 1px solid black; background: white;' src='faces/2_13.svg' />"
      ],
      "text/plain": [
       "<IPython.core.display.HTML object>"
      ]
     },
     "metadata": {},
     "output_type": "display_data"
    },
    {
     "name": "stdout",
     "output_type": "stream",
     "text": [
      " \n",
      "turn 46 =============================\n",
      "player 2 cards in hand 4:\n",
      "pass\n",
      " \n",
      "turn 47 =============================\n",
      "player 3 cards in hand 3:\n",
      "pass\n",
      " \n",
      "turn 48 =============================\n",
      "player 4 cards in hand 4:\n",
      "pass\n",
      " \n",
      "turn 49 =============================\n",
      "player 1 cards in hand 7:\n",
      "possible moves 7\n"
     ]
    },
    {
     "data": {
      "text/html": [
       "<img style='width: 120px; margin: 0px; float: left; border: 1px solid black; background: white;' src='faces/3_7.svg' />"
      ],
      "text/plain": [
       "<IPython.core.display.HTML object>"
      ]
     },
     "metadata": {},
     "output_type": "display_data"
    },
    {
     "name": "stdout",
     "output_type": "stream",
     "text": [
      " \n",
      "turn 50 =============================\n",
      "player 2 cards in hand 4:\n",
      "possible moves 1\n"
     ]
    },
    {
     "data": {
      "text/html": [
       "<img style='width: 120px; margin: 0px; float: left; border: 1px solid black; background: white;' src='faces/0_5.svg' />"
      ],
      "text/plain": [
       "<IPython.core.display.HTML object>"
      ]
     },
     "metadata": {},
     "output_type": "display_data"
    },
    {
     "name": "stdout",
     "output_type": "stream",
     "text": [
      " \n",
      "turn 51 =============================\n",
      "player 3 cards in hand 3:\n",
      "pass\n",
      " \n",
      "turn 52 =============================\n",
      "player 4 cards in hand 4:\n",
      "pass\n",
      " \n",
      "turn 53 =============================\n",
      "player 1 cards in hand 6:\n",
      "pass\n",
      " \n",
      "turn 54 =============================\n",
      "player 2 cards in hand 3:\n",
      "possible moves 3\n"
     ]
    },
    {
     "data": {
      "text/html": [
       "<img style='width: 120px; margin: 0px; float: left; border: 1px solid black; background: white;' src='faces/3_13.svg' />"
      ],
      "text/plain": [
       "<IPython.core.display.HTML object>"
      ]
     },
     "metadata": {},
     "output_type": "display_data"
    },
    {
     "name": "stdout",
     "output_type": "stream",
     "text": [
      " \n",
      "turn 55 =============================\n",
      "player 3 cards in hand 3:\n",
      "possible moves 3\n"
     ]
    },
    {
     "data": {
      "text/html": [
       "<img style='width: 120px; margin: 0px; float: left; border: 1px solid black; background: white;' src='faces/0_8.svg' />"
      ],
      "text/plain": [
       "<IPython.core.display.HTML object>"
      ]
     },
     "metadata": {},
     "output_type": "display_data"
    },
    {
     "name": "stdout",
     "output_type": "stream",
     "text": [
      " \n",
      "turn 56 =============================\n",
      "player 4 cards in hand 4:\n",
      "possible moves 1\n"
     ]
    },
    {
     "data": {
      "text/html": [
       "<img style='width: 120px; margin: 0px; float: left; border: 1px solid black; background: white;' src='faces/1_6.svg' />"
      ],
      "text/plain": [
       "<IPython.core.display.HTML object>"
      ]
     },
     "metadata": {},
     "output_type": "display_data"
    },
    {
     "name": "stdout",
     "output_type": "stream",
     "text": [
      " \n",
      "turn 57 =============================\n",
      "player 1 cards in hand 6:\n",
      "possible moves 1\n"
     ]
    },
    {
     "data": {
      "text/html": [
       "<img style='width: 120px; margin: 0px; float: left; border: 1px solid black; background: white;' src='faces/2_6.svg' />"
      ],
      "text/plain": [
       "<IPython.core.display.HTML object>"
      ]
     },
     "metadata": {},
     "output_type": "display_data"
    },
    {
     "name": "stdout",
     "output_type": "stream",
     "text": [
      " \n",
      "turn 58 =============================\n",
      "player 2 cards in hand 2:\n",
      "pass\n",
      " \n",
      "turn 59 =============================\n",
      "player 3 cards in hand 2:\n",
      "pass\n",
      " \n",
      "turn 60 =============================\n",
      "player 4 cards in hand 3:\n",
      "pass\n",
      " \n",
      "turn 61 =============================\n",
      "player 1 cards in hand 5:\n",
      "possible moves 5\n"
     ]
    },
    {
     "data": {
      "text/html": [
       "<img style='width: 120px; margin: 0px; float: left; border: 1px solid black; background: white;' src='faces/1_13.svg' />"
      ],
      "text/plain": [
       "<IPython.core.display.HTML object>"
      ]
     },
     "metadata": {},
     "output_type": "display_data"
    },
    {
     "name": "stdout",
     "output_type": "stream",
     "text": [
      " \n",
      "turn 62 =============================\n",
      "player 2 cards in hand 2:\n",
      "possible moves 2\n"
     ]
    },
    {
     "data": {
      "text/html": [
       "<img style='width: 120px; margin: 0px; float: left; border: 1px solid black; background: white;' src='faces/1_9.svg' />"
      ],
      "text/plain": [
       "<IPython.core.display.HTML object>"
      ]
     },
     "metadata": {},
     "output_type": "display_data"
    },
    {
     "name": "stdout",
     "output_type": "stream",
     "text": [
      " \n",
      "turn 63 =============================\n",
      "player 3 cards in hand 2:\n",
      "possible moves 1\n"
     ]
    },
    {
     "data": {
      "text/html": [
       "<img style='width: 120px; margin: 0px; float: left; border: 1px solid black; background: white;' src='faces/2_7.svg' />"
      ],
      "text/plain": [
       "<IPython.core.display.HTML object>"
      ]
     },
     "metadata": {},
     "output_type": "display_data"
    },
    {
     "name": "stdout",
     "output_type": "stream",
     "text": [
      " \n",
      "turn 64 =============================\n",
      "player 4 cards in hand 3:\n",
      "pass\n",
      " \n",
      "turn 65 =============================\n",
      "player 1 cards in hand 4:\n",
      "pass\n",
      " \n",
      "turn 66 =============================\n",
      "player 2 cards in hand 1:\n",
      "pass\n",
      " \n",
      "turn 67 =============================\n",
      "player 3 cards in hand 1:\n",
      "possible moves 1\n"
     ]
    },
    {
     "data": {
      "text/html": [
       "<img style='width: 120px; margin: 0px; float: left; border: 1px solid black; background: white;' src='faces/2_12.svg' />"
      ],
      "text/plain": [
       "<IPython.core.display.HTML object>"
      ]
     },
     "metadata": {},
     "output_type": "display_data"
    },
    {
     "name": "stdout",
     "output_type": "stream",
     "text": [
      "Player 3 has won\n",
      "Player #4 Cards left: 3\n",
      "Player #1 Cards left: 4\n",
      "Player #2 Cards left: 1\n"
     ]
    }
   ],
   "source": [
    "\n",
    "simulate_game(4)\n"
   ]
  },
  {
   "cell_type": "code",
   "execution_count": 27,
   "metadata": {},
   "outputs": [],
   "source": [
    "\n",
    "# pile = []\n",
    "# for x in range(52):\n",
    "#   pile.append(x)\n",
    "  \n",
    "# result = combination_from_pile(pile)\n",
    "\n",
    "\n",
    "# total_combinations = len(result)\n",
    "\n",
    "# ratios = []\n",
    "# print(f\"total combinations = {total_combinations}\")\n",
    "# for type in range(9):\n",
    "#   count = len([x for x in filter(lambda x: x[0] == type, result)])\n",
    "#   print(f\"{type}: count = {count} / {total_combinations}\")\n",
    "#   ratio = count / total_combinations\n",
    "#   ratios.append([type, ratio])\n",
    "# print(ratios)\n",
    "\n",
    "# for type, cards in result:\n",
    "#   print(f\"comb type {type}\")\n",
    "#   for c in cards:\n",
    "#     _, suite, card, index = card_id_to_name(c)\n",
    "#     print(f\"{suite} {card}\")"
   ]
  }
 ],
 "metadata": {
  "kernelspec": {
   "display_name": "Python 3.8.13 ('pytorch_m1')",
   "language": "python",
   "name": "python3"
  },
  "language_info": {
   "codemirror_mode": {
    "name": "ipython",
    "version": 3
   },
   "file_extension": ".py",
   "mimetype": "text/x-python",
   "name": "python",
   "nbconvert_exporter": "python",
   "pygments_lexer": "ipython3",
   "version": "3.8.13"
  },
  "orig_nbformat": 4,
  "vscode": {
   "interpreter": {
    "hash": "a86e175424e4359990930e0232b9990c8ac2b7e8a4c544f56aeba2648f96e082"
   }
  }
 },
 "nbformat": 4,
 "nbformat_minor": 2
}
